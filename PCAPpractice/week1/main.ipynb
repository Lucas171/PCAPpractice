{
 "cells": [
  {
   "cell_type": "markdown",
   "metadata": {},
   "source": [
    "## import variants: import, from import, import as, import *"
   ]
  },
  {
   "cell_type": "code",
   "execution_count": null,
   "metadata": {},
   "outputs": [],
   "source": [
    "import random\n",
    "random.randint(1, 5)"
   ]
  },
  {
   "cell_type": "code",
   "execution_count": null,
   "metadata": {},
   "outputs": [],
   "source": [
    "from random import randint\n",
    "randint(1,10)"
   ]
  },
  {
   "cell_type": "code",
   "execution_count": null,
   "metadata": {},
   "outputs": [],
   "source": [
    "import random as rd\n",
    "import pandas as pd\n",
    "rd.randint(1,30)\n",
    "# pd.read_csv()"
   ]
  },
  {
   "cell_type": "code",
   "execution_count": 16,
   "metadata": {},
   "outputs": [
    {
     "name": "stdout",
     "output_type": "stream",
     "text": [
      "2.718281828459045\n",
      "0.4497979278004386\n",
      "/Users/lucasmiller/Desktop/CarnegieMellon/friday/PCAPpractice/PCAPpractice/week1\n"
     ]
    }
   ],
   "source": [
    "import math, random, sys\n",
    "\n",
    "print(math.e)\n",
    "print(random.random())\n",
    "print(sys.path[0])\n",
    "\n"
   ]
  },
  {
   "cell_type": "markdown",
   "metadata": {},
   "source": [
    "## advanced qualifying for nested modules"
   ]
  },
  {
   "cell_type": "markdown",
   "metadata": {},
   "source": [
    "- How to create a module\n",
    "- working with nested modules"
   ]
  },
  {
   "cell_type": "markdown",
   "metadata": {},
   "source": [
    "## the dir() function\n",
    "\n",
    "\n",
    "```dir()\n",
    "The dir() function returns all properties and methods of the \n",
    "specified object, without the values. This function will return \n",
    "all the properties and methods, even built-in properties which \n",
    "are default for all object.\n",
    "(W3 Schools)```"
   ]
  },
  {
   "cell_type": "code",
   "execution_count": 17,
   "metadata": {},
   "outputs": [],
   "source": [
    "import math\n",
    "\n",
    "# dir(math)"
   ]
  },
  {
   "cell_type": "code",
   "execution_count": null,
   "metadata": {},
   "outputs": [],
   "source": [
    "class Person:\n",
    "  def __init__(self) -> None:\n",
    "    self.name = \"John\"\n",
    "    self.age = 36\n",
    "    self.country = \"Norway\"\n",
    "\n",
    "new_person = Person()\n",
    "\n",
    "# print(dir(new_person))"
   ]
  },
  {
   "cell_type": "code",
   "execution_count": null,
   "metadata": {},
   "outputs": [],
   "source": [
    "# Use Case #1\n",
    "\n",
    "#Exploring a module's attributes and methods\n",
    "# as seen above\n",
    "\n",
    "import math\n",
    "print(dir(math))"
   ]
  },
  {
   "cell_type": "code",
   "execution_count": null,
   "metadata": {},
   "outputs": [],
   "source": [
    "import random\n",
    "print(dir(random))"
   ]
  },
  {
   "cell_type": "code",
   "execution_count": null,
   "metadata": {},
   "outputs": [],
   "source": [
    "#Use Case #2\n",
    "#Exploring a functions Variables\n",
    "def my_function():\n",
    "    local_variable = 10\n",
    "    print(dir())\n",
    "\n",
    "my_function()"
   ]
  },
  {
   "cell_type": "code",
   "execution_count": null,
   "metadata": {},
   "outputs": [],
   "source": [
    "#Use Case #3\n",
    "#Exploring objects\n",
    "\n",
    "a_string = \"Hello, World!\"\n",
    "a_number = 5  \n",
    "print(dir(a_string))\n",
    "print(dir(a_number))"
   ]
  },
  {
   "cell_type": "markdown",
   "metadata": {},
   "source": [
    "# the sys.path variable\n",
    "\n",
    "```# sys.path\n",
    "sys.path is a built-in variable within the sys module. It contains a list of directories that the interpreter will search in for the required module. \n",
    "When a module(a module is a python file) is imported within a Python file, the interpreter first searches for the specified module among its \n",
    "built-in modules. If not found it looks through the list of directories(a directory is a folder that contains related modules) defined by sys.path.```"
   ]
  },
  {
   "cell_type": "code",
   "execution_count": 18,
   "metadata": {},
   "outputs": [
    {
     "name": "stdout",
     "output_type": "stream",
     "text": [
      "['/Users/lucasmiller/Desktop/CarnegieMellon/friday/PCAPpractice/PCAPpractice/week1', '/Library/Frameworks/Python.framework/Versions/3.11/lib/python311.zip', '/Library/Frameworks/Python.framework/Versions/3.11/lib/python3.11', '/Library/Frameworks/Python.framework/Versions/3.11/lib/python3.11/lib-dynload', '', '/Users/lucasmiller/Library/Python/3.11/lib/python/site-packages', '/Library/Frameworks/Python.framework/Versions/3.11/lib/python3.11/site-packages']\n",
      "['/Users/lucasmiller/Desktop/CarnegieMellon/friday/PCAPpractice/PCAPpractice/week1', '/Library/Frameworks/Python.framework/Versions/3.11/lib/python311.zip', '/Library/Frameworks/Python.framework/Versions/3.11/lib/python3.11', '/Library/Frameworks/Python.framework/Versions/3.11/lib/python3.11/lib-dynload', '', '/Users/lucasmiller/Library/Python/3.11/lib/python/site-packages', '/Library/Frameworks/Python.framework/Versions/3.11/lib/python3.11/site-packages']\n"
     ]
    }
   ],
   "source": [
    "import sys\n",
    "\n",
    "print(sys.path)\n",
    "\n",
    "\n"
   ]
  },
  {
   "cell_type": "code",
   "execution_count": 27,
   "metadata": {},
   "outputs": [],
   "source": [
    "import sys\n",
    "\n",
    "# add noted here\n",
    "\n",
    "\n"
   ]
  },
  {
   "cell_type": "markdown",
   "metadata": {},
   "source": [
    "## functions: ceil(), floor(), trunc(), factorial(), hypot(), sqrt()"
   ]
  },
  {
   "cell_type": "code",
   "execution_count": null,
   "metadata": {},
   "outputs": [],
   "source": [
    "#functions: ceil(), floor(), trunc(), factorial(), hypot(), sqrt()\n",
    "\n",
    "import math\n",
    "\n",
    "# round up\n",
    "print(math.ceil(5.5))\n",
    "\n",
    "# round down\n",
    "print(math.floor(5.5))\n",
    "\n",
    "# truncate\n",
    "print(math.trunc(5.555))\n",
    "\n",
    "#factorial\n",
    "print(math.factorial(3))\n",
    "\n",
    "#hypotenuse\n",
    "print(math.hypot(3,4))\n",
    "\n",
    "#square root\n",
    "print(math.sqrt(9))"
   ]
  },
  {
   "cell_type": "markdown",
   "metadata": {},
   "source": [
    "## functions: random(), seed(), choice(), sample()"
   ]
  },
  {
   "cell_type": "code",
   "execution_count": null,
   "metadata": {},
   "outputs": [],
   "source": [
    "# functions: random(), seed(), choice(), sample()\n",
    "\n",
    "#random.random()\n",
    "# import random\n",
    "# print(random.random())\n",
    "\n",
    "# random.seed(1)\n",
    "# print(random.random())\n",
    "\n",
    "# #random.choice()\n",
    "# chosen_one = random.choice([\"Max\", \"Sally\", \"Jim\", \"Brandon\", \"Ezekeal\"])\n",
    "# print(f'{chosen_one}, has to do the laundry today!')\n",
    "\n",
    "# #random.sample()\n",
    "# contestants = [\"Max\", \"Sally\", \"Jim\", \"Brandon\", \"Ezekeal\"]\n",
    "# three_finalist = random.sample(contestants, 3)\n",
    "# top_two = random.sample(three_finalist, 2)\n",
    "# winner = random.sample(top_two, 1)\n",
    "# print(three_finalist)\n",
    "# print(top_two)\n",
    "# print(winner)\n",
    "\n"
   ]
  },
  {
   "cell_type": "code",
   "execution_count": null,
   "metadata": {},
   "outputs": [],
   "source": [
    "# random.random() use cases\n",
    "\n",
    "#generate a random number up to a certain amount\n"
   ]
  },
  {
   "cell_type": "code",
   "execution_count": null,
   "metadata": {},
   "outputs": [],
   "source": [
    "# seed() Use cases\n",
    "\n",
    "#Testing\n",
    "\n",
    "#add notes\n",
    "\n",
    "\n"
   ]
  },
  {
   "cell_type": "markdown",
   "metadata": {},
   "source": [
    "## functions: platform(), machine(), processor(), system(), version(), python_implementation(), python_version_tuple()\n",
    "\n"
   ]
  },
  {
   "cell_type": "markdown",
   "metadata": {},
   "source": [
    "- add notes here"
   ]
  },
  {
   "cell_type": "markdown",
   "metadata": {},
   "source": [
    "## the __pycache__ directory\n",
    "\n",
    "just a compiled version on the module."
   ]
  },
  {
   "cell_type": "markdown",
   "metadata": {},
   "source": [
    "## the __name__ variable\n",
    "\n",
    "Most commonly used when working with modules \n",
    "\n",
    "```\n",
    "if __name__ == \"__main__\":\n",
    "  do something\n",
    "```\n",
    "\n",
    "Why is this useful?"
   ]
  },
  {
   "cell_type": "markdown",
   "metadata": {},
   "source": [
    "## public and private variables"
   ]
  },
  {
   "cell_type": "code",
   "execution_count": null,
   "metadata": {},
   "outputs": [],
   "source": [
    "class MyClass:\n",
    "    def __init__(self):\n",
    "        self.name = 'A Class'\n",
    "        self._internal_variable = \"This is internal\"\n",
    "        self.__private_variable = \"This is private\"\n",
    "\n",
    "my_object = MyClass()\n",
    "# print(my_object.name)\n",
    "# print(my_object._internal_variable)\n",
    "# print(my_object.__private_variable)\n",
    "\n",
    "\n",
    "\n",
    "#searching for/through modules/packages\n",
    "#nested packages vs. directory trees"
   ]
  },
  {
   "cell_type": "markdown",
   "metadata": {},
   "source": [
    "## the \\_\\_init\\_\\_.py file"
   ]
  },
  {
   "cell_type": "code",
   "execution_count": null,
   "metadata": {},
   "outputs": [],
   "source": [
    "# import inititalize"
   ]
  },
  {
   "cell_type": "markdown",
   "metadata": {},
   "source": [
    "## searching for/through modules/packages"
   ]
  },
  {
   "cell_type": "code",
   "execution_count": null,
   "metadata": {},
   "outputs": [],
   "source": [
    "#searching for packages/modules\n",
    "import os\n",
    "\n",
    "# List all files in a directory\n",
    "files = os.listdir('/Users/lucasmiller/Desktop/CarnegieMellon/friday/PCAPpractice/week1/nestedMods')\n",
    "\n",
    "# Filter for Python files\n",
    "python_files = [file for file in files if file.endswith('.py')]\n",
    "\n",
    "# Print the Python files\n",
    "print(python_files)"
   ]
  },
  {
   "cell_type": "code",
   "execution_count": null,
   "metadata": {},
   "outputs": [],
   "source": [
    "# Help method\n",
    "\n",
    "from nestedMods import addition\n",
    "import math\n",
    "# help(addition)\n",
    "# help(math)\n"
   ]
  },
  {
   "cell_type": "code",
   "execution_count": null,
   "metadata": {},
   "outputs": [],
   "source": [
    "#using dir()\n",
    "import math\n",
    "import nestedMods\n",
    "dir(nestedMods) # this will show the modules it has inside of the package\n",
    "dir(math) # this will show the attributes and methods"
   ]
  },
  {
   "cell_type": "markdown",
   "metadata": {},
   "source": [
    "## nested packages vs. directory trees"
   ]
  },
  {
   "cell_type": "markdown",
   "metadata": {},
   "source": [
    "- add notes here"
   ]
  }
 ],
 "metadata": {
  "kernelspec": {
   "display_name": "Python 3",
   "language": "python",
   "name": "python3"
  },
  "language_info": {
   "codemirror_mode": {
    "name": "ipython",
    "version": 3
   },
   "file_extension": ".py",
   "mimetype": "text/x-python",
   "name": "python",
   "nbconvert_exporter": "python",
   "pygments_lexer": "ipython3",
   "version": "3.11.1"
  }
 },
 "nbformat": 4,
 "nbformat_minor": 2
}
