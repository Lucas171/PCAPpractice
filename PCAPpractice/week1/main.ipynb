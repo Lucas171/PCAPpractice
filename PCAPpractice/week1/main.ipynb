{
 "cells": [
  {
   "cell_type": "code",
   "execution_count": null,
   "metadata": {},
   "outputs": [],
   "source": [
    "import random"
   ]
  },
  {
   "cell_type": "code",
   "execution_count": null,
   "metadata": {},
   "outputs": [],
   "source": [
    "random.randint(1, 5)"
   ]
  },
  {
   "cell_type": "code",
   "execution_count": null,
   "metadata": {},
   "outputs": [],
   "source": [
    "from random import randint"
   ]
  },
  {
   "cell_type": "code",
   "execution_count": null,
   "metadata": {},
   "outputs": [],
   "source": [
    "randint(1,10)"
   ]
  },
  {
   "cell_type": "code",
   "execution_count": null,
   "metadata": {},
   "outputs": [],
   "source": [
    "import random as rd\n",
    "import pandas as pd\n"
   ]
  },
  {
   "cell_type": "code",
   "execution_count": null,
   "metadata": {},
   "outputs": [],
   "source": [
    "rd.randint(1,30)\n",
    "# pd.read_csv()"
   ]
  },
  {
   "cell_type": "code",
   "execution_count": null,
   "metadata": {},
   "outputs": [],
   "source": [
    "from math import *"
   ]
  },
  {
   "cell_type": "code",
   "execution_count": null,
   "metadata": {},
   "outputs": [],
   "source": [
    "randint(1,100)"
   ]
  },
  {
   "cell_type": "code",
   "execution_count": null,
   "metadata": {},
   "outputs": [],
   "source": [
    "# creating own modules\n",
    "# Nested Modules\n"
   ]
  },
  {
   "cell_type": "code",
   "execution_count": null,
   "metadata": {},
   "outputs": [],
   "source": [
    "# dir()\n",
    "\n",
    "# The dir() function returns all properties and methods of the \n",
    "# specified object, without the values. This function will return \n",
    "# all the properties and methods, even built-in properties which \n",
    "# are default for all object.\n",
    "#(W3 Schools)\n"
   ]
  },
  {
   "cell_type": "code",
   "execution_count": null,
   "metadata": {},
   "outputs": [],
   "source": [
    "class Person:\n",
    "  def __init__(self) -> None:\n",
    "    self.name = \"John\"\n",
    "    self.age = 36\n",
    "    self.country = \"Norway\"\n",
    "\n",
    "new_person = Person()\n",
    "\n",
    "print(dir(new_person))"
   ]
  },
  {
   "cell_type": "code",
   "execution_count": null,
   "metadata": {},
   "outputs": [],
   "source": [
    "# Use Case #1\n",
    "\n",
    "#Exploring a module's attributes and methods\n",
    "import math\n",
    "print(dir(math))"
   ]
  },
  {
   "cell_type": "code",
   "execution_count": null,
   "metadata": {},
   "outputs": [],
   "source": [
    "import random\n",
    "print(dir(random))"
   ]
  },
  {
   "cell_type": "code",
   "execution_count": null,
   "metadata": {},
   "outputs": [],
   "source": [
    "#Use Case #2\n",
    "#Exploring a functions Variables\n",
    "def my_function():\n",
    "    local_variable = 10\n",
    "    print(dir())\n",
    "\n",
    "my_function()"
   ]
  },
  {
   "cell_type": "code",
   "execution_count": null,
   "metadata": {},
   "outputs": [],
   "source": [
    "#Use Case #3\n",
    "#Exploring objects\n",
    "\n",
    "a_string = \"Hello, World!\"\n",
    "a_number = 5\n",
    "print(dir(a_string))\n",
    "print(dir(a_number))"
   ]
  },
  {
   "cell_type": "code",
   "execution_count": null,
   "metadata": {},
   "outputs": [],
   "source": [
    "# sys.path\n",
    "#sys.path is a built-in variable within the sys module. It contains a list of directories that the interpreter will search in for the required module. \n",
    "#When a module(a module is a python file) is imported within a Python file, the interpreter first searches for the specified module among its \n",
    "#built-in modules. If not found it looks through the list of directories(a directory is a folder that contains related modules) defined by sys.path.\n",
    "\n",
    "import sys\n",
    "import math\n",
    "\n",
    "# sys.path.remove('nestedMods')\n",
    "# from addition import addition\n",
    "\n",
    "import nestedMods.addition\n",
    "sys.path\n",
    "\n"
   ]
  },
  {
   "cell_type": "code",
   "execution_count": null,
   "metadata": {},
   "outputs": [],
   "source": [
    "#functions: ceil(), floor(), trunc(), factorial(), hypot(), sqrt()\n",
    "\n",
    "import math\n",
    "\n",
    "# round up\n",
    "print(math.ceil(5.5))\n",
    "\n",
    "# round down\n",
    "print(math.floor(5.5))\n",
    "\n",
    "# truncate\n",
    "print(math.trunc(5.555))\n",
    "\n",
    "#factorial\n",
    "print(math.factorial(3))\n",
    "\n",
    "#hypotenuse\n",
    "print(math.hypot(3,4))\n",
    "\n",
    "#square root\n",
    "print(math.sqrt(9))"
   ]
  },
  {
   "cell_type": "code",
   "execution_count": null,
   "metadata": {},
   "outputs": [],
   "source": [
    "# functions: random(), seed(), choice(), sample()\n",
    "\n",
    "#random.random()\n",
    "# import random\n",
    "# print(random.random())\n",
    "\n",
    "# random.seed(1)\n",
    "# print(random.random())\n",
    "\n",
    "# #random.choice()\n",
    "# chosen_one = random.choice([\"Max\", \"Sally\", \"Jim\", \"Brandon\", \"Ezekeal\"])\n",
    "# print(f'{chosen_one}, has to do the laundry today!')\n",
    "\n",
    "# #random.sample()\n",
    "# contestants = [\"Max\", \"Sally\", \"Jim\", \"Brandon\", \"Ezekeal\"]\n",
    "# three_finalist = random.sample(contestants, 3)\n",
    "# top_two = random.sample(three_finalist, 2)\n",
    "# winner = random.sample(top_two, 1)\n",
    "# print(three_finalist)\n",
    "# print(top_two)\n",
    "# print(winner)\n",
    "\n"
   ]
  },
  {
   "cell_type": "code",
   "execution_count": null,
   "metadata": {},
   "outputs": [],
   "source": [
    "# random.random() use cases\n",
    "\n",
    "#generate a random number up to a certain amount\n"
   ]
  },
  {
   "cell_type": "code",
   "execution_count": null,
   "metadata": {},
   "outputs": [],
   "source": [
    "# seed() Use cases\n",
    "\n",
    "#Testing\n",
    "\n",
    "\n",
    "\n"
   ]
  },
  {
   "cell_type": "code",
   "execution_count": null,
   "metadata": {},
   "outputs": [],
   "source": [
    "# functions: platform(), machine(), processor(), system(), version(), python_implementation(), python_version_tuple()\n",
    "\n"
   ]
  },
  {
   "cell_type": "markdown",
   "metadata": {},
   "source": [
    "## the __pycache__ directory\n",
    "\n",
    "just a compiled version on the module."
   ]
  },
  {
   "cell_type": "markdown",
   "metadata": {},
   "source": [
    "## the __name__ variable\n",
    "\n",
    "Most commonly used when working with modules \n",
    "\n",
    "```\n",
    "if __name__ == \"__main__\":\n",
    "  do something\n",
    "```\n",
    "\n",
    "Why is this useful?"
   ]
  },
  {
   "cell_type": "markdown",
   "metadata": {},
   "source": [
    "## public and private variables"
   ]
  },
  {
   "cell_type": "code",
   "execution_count": null,
   "metadata": {},
   "outputs": [],
   "source": [
    "class MyClass:\n",
    "    def __init__(self):\n",
    "        self.name = 'A Class'\n",
    "        self._internal_variable = \"This is internal\"\n",
    "        self.__private_variable = \"This is private\"\n",
    "\n",
    "my_object = MyClass()\n",
    "# print(my_object.name)\n",
    "# print(my_object._internal_variable)\n",
    "# print(my_object.__private_variable)\n",
    "\n",
    "\n",
    "\n"
   ]
  },
  {
   "cell_type": "markdown",
   "metadata": {},
   "source": [
    "## the \\_\\_init\\_\\_.py file"
   ]
  },
  {
   "cell_type": "code",
   "execution_count": null,
   "metadata": {},
   "outputs": [],
   "source": [
    "# import inititalize"
   ]
  },
  {
   "cell_type": "markdown",
   "metadata": {},
   "source": [
    "## searching for/through modules/packages"
   ]
  },
  {
   "cell_type": "code",
   "execution_count": null,
   "metadata": {},
   "outputs": [],
   "source": [
    "#searching for packages/modules\n",
    "import os\n",
    "\n",
    "# List all files in a directory\n",
    "files = os.listdir('/Users/lucasmiller/Desktop/CarnegieMellon/friday/PCAPpractice/week1/nestedMods')\n",
    "\n",
    "# Filter for Python files\n",
    "python_files = [file for file in files if file.endswith('.py')]\n",
    "\n",
    "# Print the Python files\n",
    "print(python_files)"
   ]
  },
  {
   "cell_type": "code",
   "execution_count": null,
   "metadata": {},
   "outputs": [],
   "source": [
    "# Help method\n",
    "\n",
    "from nestedMods import addition\n",
    "import math\n",
    "# help(addition)\n",
    "# help(math)\n"
   ]
  },
  {
   "cell_type": "code",
   "execution_count": null,
   "metadata": {},
   "outputs": [],
   "source": [
    "#using dir()\n",
    "import math\n",
    "import nestedMods\n",
    "dir(nestedMods) # this will show the modules it has inside of the package\n",
    "dir(math) # this will show the attributes and methods"
   ]
  },
  {
   "cell_type": "markdown",
   "metadata": {},
   "source": [
    "## nested packages vs. directory trees",
    "## add notes here"
   ]
  }
 ],
 "metadata": {
  "kernelspec": {
   "display_name": "Python 3",
   "language": "python",
   "name": "python3"
  },
  "language_info": {
   "codemirror_mode": {
    "name": "ipython",
    "version": 3
   },
   "file_extension": ".py",
   "mimetype": "text/x-python",
   "name": "python",
   "nbconvert_exporter": "python",
   "pygments_lexer": "ipython3",
   "version": "3.11.1"
  }
 },
 "nbformat": 4,
 "nbformat_minor": 2
}
