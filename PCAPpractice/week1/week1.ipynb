{
 "cells": [
  {
   "cell_type": "markdown",
   "metadata": {},
   "source": [
    "## import variants: import, from import, import as, import *"
   ]
  },
  {
   "cell_type": "code",
   "execution_count": 4,
   "metadata": {},
   "outputs": [
    {
     "data": {
      "text/plain": [
       "3"
      ]
     },
     "execution_count": 4,
     "metadata": {},
     "output_type": "execute_result"
    }
   ],
   "source": [
    "import random\n",
    "random.randint(1, 5)"
   ]
  },
  {
   "cell_type": "code",
   "execution_count": 5,
   "metadata": {},
   "outputs": [
    {
     "data": {
      "text/plain": [
       "9"
      ]
     },
     "execution_count": 5,
     "metadata": {},
     "output_type": "execute_result"
    }
   ],
   "source": [
    "from random import randint\n",
    "randint(1,10)"
   ]
  },
  {
   "cell_type": "code",
   "execution_count": 6,
   "metadata": {},
   "outputs": [
    {
     "data": {
      "text/plain": [
       "13"
      ]
     },
     "execution_count": 6,
     "metadata": {},
     "output_type": "execute_result"
    }
   ],
   "source": [
    "import random as rd\n",
    "import pandas as pd\n",
    "rd.randint(1,30)\n",
    "# pd.read_csv()"
   ]
  },
  {
   "cell_type": "code",
   "execution_count": 7,
   "metadata": {},
   "outputs": [
    {
     "name": "stdout",
     "output_type": "stream",
     "text": [
      "2.718281828459045\n",
      "0.2596392417903718\n",
      "/Users/lucasmiller/Desktop/CarnegieMellon/friday/PCAPpractice/PCAPpractice/week1\n"
     ]
    }
   ],
   "source": [
    "import math, random, sys\n",
    "\n",
    "print(math.e)\n",
    "print(random.random())\n",
    "print(sys.path[0])\n",
    "\n"
   ]
  },
  {
   "cell_type": "markdown",
   "metadata": {},
   "source": [
    "## advanced qualifying for nested modules"
   ]
  },
  {
   "cell_type": "markdown",
   "metadata": {},
   "source": [
    "- How to create a module\n",
    "- working with nested modules"
   ]
  },
  {
   "cell_type": "markdown",
   "metadata": {},
   "source": [
    "## the dir() function\n",
    "\n",
    "\n",
    "```dir()\n",
    "The dir() function returns all properties and methods of the \n",
    "specified object, without the values. This function will return \n",
    "all the properties and methods, even built-in properties which \n",
    "are default for all object.\n",
    "(W3 Schools)```"
   ]
  },
  {
   "cell_type": "code",
   "execution_count": 8,
   "metadata": {},
   "outputs": [],
   "source": [
    "import math\n",
    "\n",
    "# dir(math)"
   ]
  },
  {
   "cell_type": "code",
   "execution_count": 9,
   "metadata": {},
   "outputs": [],
   "source": [
    "class Person:\n",
    "  def __init__(self) -> None:\n",
    "    self.name = \"John\"\n",
    "    self.age = 36\n",
    "    self.country = \"Norway\"\n",
    "\n",
    "new_person = Person()\n",
    "\n",
    "# print(dir(new_person))"
   ]
  },
  {
   "cell_type": "code",
   "execution_count": 10,
   "metadata": {},
   "outputs": [
    {
     "name": "stdout",
     "output_type": "stream",
     "text": [
      "['__doc__', '__file__', '__loader__', '__name__', '__package__', '__spec__', 'acos', 'acosh', 'asin', 'asinh', 'atan', 'atan2', 'atanh', 'cbrt', 'ceil', 'comb', 'copysign', 'cos', 'cosh', 'degrees', 'dist', 'e', 'erf', 'erfc', 'exp', 'exp2', 'expm1', 'fabs', 'factorial', 'floor', 'fmod', 'frexp', 'fsum', 'gamma', 'gcd', 'hypot', 'inf', 'isclose', 'isfinite', 'isinf', 'isnan', 'isqrt', 'lcm', 'ldexp', 'lgamma', 'log', 'log10', 'log1p', 'log2', 'modf', 'nan', 'nextafter', 'perm', 'pi', 'pow', 'prod', 'radians', 'remainder', 'sin', 'sinh', 'sqrt', 'tan', 'tanh', 'tau', 'trunc', 'ulp']\n"
     ]
    }
   ],
   "source": [
    "# Use Case #1\n",
    "\n",
    "#Exploring a module's attributes and methods\n",
    "# as seen above\n",
    "\n",
    "import math\n",
    "print(dir(math))"
   ]
  },
  {
   "cell_type": "code",
   "execution_count": 11,
   "metadata": {},
   "outputs": [
    {
     "name": "stdout",
     "output_type": "stream",
     "text": [
      "['BPF', 'LOG4', 'NV_MAGICCONST', 'RECIP_BPF', 'Random', 'SG_MAGICCONST', 'SystemRandom', 'TWOPI', '_ONE', '_Sequence', '_Set', '__all__', '__builtins__', '__cached__', '__doc__', '__file__', '__loader__', '__name__', '__package__', '__spec__', '_accumulate', '_acos', '_bisect', '_ceil', '_cos', '_e', '_exp', '_floor', '_index', '_inst', '_isfinite', '_log', '_os', '_pi', '_random', '_repeat', '_sha512', '_sin', '_sqrt', '_test', '_test_generator', '_urandom', '_warn', 'betavariate', 'choice', 'choices', 'expovariate', 'gammavariate', 'gauss', 'getrandbits', 'getstate', 'lognormvariate', 'normalvariate', 'paretovariate', 'randbytes', 'randint', 'random', 'randrange', 'sample', 'seed', 'setstate', 'shuffle', 'triangular', 'uniform', 'vonmisesvariate', 'weibullvariate']\n"
     ]
    }
   ],
   "source": [
    "import random\n",
    "print(dir(random))"
   ]
  },
  {
   "cell_type": "code",
   "execution_count": 12,
   "metadata": {},
   "outputs": [
    {
     "name": "stdout",
     "output_type": "stream",
     "text": [
      "['local_variable']\n"
     ]
    }
   ],
   "source": [
    "#Use Case #2\n",
    "#Exploring a functions Variables\n",
    "def my_function():\n",
    "    local_variable = 10\n",
    "    print(dir())\n",
    "\n",
    "my_function()"
   ]
  },
  {
   "cell_type": "code",
   "execution_count": 13,
   "metadata": {},
   "outputs": [
    {
     "name": "stdout",
     "output_type": "stream",
     "text": [
      "['__add__', '__class__', '__contains__', '__delattr__', '__dir__', '__doc__', '__eq__', '__format__', '__ge__', '__getattribute__', '__getitem__', '__getnewargs__', '__getstate__', '__gt__', '__hash__', '__init__', '__init_subclass__', '__iter__', '__le__', '__len__', '__lt__', '__mod__', '__mul__', '__ne__', '__new__', '__reduce__', '__reduce_ex__', '__repr__', '__rmod__', '__rmul__', '__setattr__', '__sizeof__', '__str__', '__subclasshook__', 'capitalize', 'casefold', 'center', 'count', 'encode', 'endswith', 'expandtabs', 'find', 'format', 'format_map', 'index', 'isalnum', 'isalpha', 'isascii', 'isdecimal', 'isdigit', 'isidentifier', 'islower', 'isnumeric', 'isprintable', 'isspace', 'istitle', 'isupper', 'join', 'ljust', 'lower', 'lstrip', 'maketrans', 'partition', 'removeprefix', 'removesuffix', 'replace', 'rfind', 'rindex', 'rjust', 'rpartition', 'rsplit', 'rstrip', 'split', 'splitlines', 'startswith', 'strip', 'swapcase', 'title', 'translate', 'upper', 'zfill']\n",
      "['__abs__', '__add__', '__and__', '__bool__', '__ceil__', '__class__', '__delattr__', '__dir__', '__divmod__', '__doc__', '__eq__', '__float__', '__floor__', '__floordiv__', '__format__', '__ge__', '__getattribute__', '__getnewargs__', '__getstate__', '__gt__', '__hash__', '__index__', '__init__', '__init_subclass__', '__int__', '__invert__', '__le__', '__lshift__', '__lt__', '__mod__', '__mul__', '__ne__', '__neg__', '__new__', '__or__', '__pos__', '__pow__', '__radd__', '__rand__', '__rdivmod__', '__reduce__', '__reduce_ex__', '__repr__', '__rfloordiv__', '__rlshift__', '__rmod__', '__rmul__', '__ror__', '__round__', '__rpow__', '__rrshift__', '__rshift__', '__rsub__', '__rtruediv__', '__rxor__', '__setattr__', '__sizeof__', '__str__', '__sub__', '__subclasshook__', '__truediv__', '__trunc__', '__xor__', 'as_integer_ratio', 'bit_count', 'bit_length', 'conjugate', 'denominator', 'from_bytes', 'imag', 'numerator', 'real', 'to_bytes']\n"
     ]
    }
   ],
   "source": [
    "#Use Case #3\n",
    "#Exploring objects\n",
    "\n",
    "a_string = \"Hello, World!\"\n",
    "a_number = 5  \n",
    "print(dir(a_string))\n",
    "print(dir(a_number))"
   ]
  },
  {
   "cell_type": "markdown",
   "metadata": {},
   "source": [
    "# the sys.path variable\n",
    "\n",
    "```# sys.path\n",
    "sys.path is a built-in variable within the sys module. It contains a list of directories that the interpreter will search in for the required module. \n",
    "When a module(a module is a python file) is imported within a Python file, the interpreter first searches for the specified module among its \n",
    "built-in modules. If not found it looks through the list of directories(a directory is a folder that contains related modules) defined by sys.path.```"
   ]
  },
  {
   "cell_type": "code",
   "execution_count": 14,
   "metadata": {},
   "outputs": [
    {
     "name": "stdout",
     "output_type": "stream",
     "text": [
      "['/Users/lucasmiller/Desktop/CarnegieMellon/friday/PCAPpractice/PCAPpractice/week1', '/Library/Frameworks/Python.framework/Versions/3.11/lib/python311.zip', '/Library/Frameworks/Python.framework/Versions/3.11/lib/python3.11', '/Library/Frameworks/Python.framework/Versions/3.11/lib/python3.11/lib-dynload', '', '/Users/lucasmiller/Library/Python/3.11/lib/python/site-packages', '/Library/Frameworks/Python.framework/Versions/3.11/lib/python3.11/site-packages']\n"
     ]
    }
   ],
   "source": [
    "import sys\n",
    "print(sys.path)"
   ]
  },
  {
   "cell_type": "code",
   "execution_count": 15,
   "metadata": {},
   "outputs": [],
   "source": [
    "import sys\n",
    "# add notes here"
   ]
  },
  {
   "cell_type": "markdown",
   "metadata": {},
   "source": [
    "## functions: ceil(), floor(), trunc(), factorial(), hypot(), sqrt()"
   ]
  },
  {
   "cell_type": "code",
   "execution_count": 16,
   "metadata": {},
   "outputs": [
    {
     "name": "stdout",
     "output_type": "stream",
     "text": [
      "6\n",
      "5\n",
      "5\n",
      "6\n",
      "5.0\n",
      "3.0\n"
     ]
    }
   ],
   "source": [
    "#functions: ceil(), floor(), trunc(), factorial(), hypot(), sqrt()\n",
    "\n",
    "import math\n",
    "\n",
    "# round up\n",
    "print(math.ceil(5.5))\n",
    "\n",
    "# round down\n",
    "print(math.floor(5.5))\n",
    "\n",
    "# truncate\n",
    "print(math.trunc(5.555))\n",
    "\n",
    "#factorial\n",
    "print(math.factorial(3))\n",
    "\n",
    "#hypotenuse\n",
    "print(math.hypot(3,4))\n",
    "\n",
    "#square root\n",
    "print(math.sqrt(9))"
   ]
  },
  {
   "cell_type": "markdown",
   "metadata": {},
   "source": [
    "## functions: random(), seed(), choice(), sample()"
   ]
  },
  {
   "cell_type": "code",
   "execution_count": 17,
   "metadata": {},
   "outputs": [],
   "source": [
    "# functions: random(), seed(), choice(), sample()\n",
    "\n",
    "## returns number 0.0 <= X < 1.0\n",
    "# random.random()\n",
    "# import random\n",
    "# print(random.random())\n",
    "\n",
    "## returns same number each time\n",
    "# random.seed(1)\n",
    "# print(random.random())\n"
   ]
  },
  {
   "cell_type": "code",
   "execution_count": 18,
   "metadata": {},
   "outputs": [
    {
     "name": "stdout",
     "output_type": "stream",
     "text": [
      "[82, 15, 4, 95, 36]\n"
     ]
    }
   ],
   "source": [
    "#Examples\n",
    "\n",
    "import random\n",
    "random.seed(42)\n",
    "\n",
    "# Generate random numbers\n",
    "random_numbers = [random.randint(1, 100) for _ in range(5)]\n",
    "\n",
    "print(random_numbers)\n",
    "# print(random_numbers2)"
   ]
  },
  {
   "cell_type": "code",
   "execution_count": 19,
   "metadata": {},
   "outputs": [
    {
     "name": "stdout",
     "output_type": "stream",
     "text": [
      "[0.009708374518246354, 0.4220403148460854, 0.5051568154456998]\n"
     ]
    }
   ],
   "source": [
    "import random\n",
    "random.seed('Hello')\n",
    "\n",
    "# Generate random data\n",
    "random_data = [random.random() for _ in range(3)]\n",
    "\n",
    "print(random_data)"
   ]
  },
  {
   "cell_type": "code",
   "execution_count": 20,
   "metadata": {},
   "outputs": [],
   "source": [
    "# #random.choice()\n",
    "# chosen_one = random.choice([\"Max\", \"Sally\", \"Jim\", \"Brandon\", \"Ezekeal\"])\n",
    "# print(f'{chosen_one}, has to do the laundry today!')\n",
    "\n",
    "# #random.sample()\n",
    "# contestants = [\"Max\", \"Sally\", \"Jim\", \"Brandon\", \"Ezekeal\"]\n",
    "# three_finalist = random.sample(contestants, 3)\n",
    "# top_two = random.sample(three_finalist, 2)\n",
    "# winner = random.sample(top_two, 1)\n",
    "# print(three_finalist)\n",
    "# print(top_two)\n",
    "# print(winner)"
   ]
  },
  {
   "cell_type": "markdown",
   "metadata": {},
   "source": [
    "## functions: platform(), machine(), processor(), system(), version(), python_implementation(), python_version_tuple()\n",
    "\n"
   ]
  },
  {
   "cell_type": "code",
   "execution_count": 21,
   "metadata": {},
   "outputs": [
    {
     "name": "stdout",
     "output_type": "stream",
     "text": [
      "Platform: macOS-13.4.1-arm64-arm-64bit\n",
      "Machine: arm64\n",
      "Processor: arm\n",
      "System: Darwin\n",
      "Version: Darwin Kernel Version 22.5.0: Thu Jun  8 22:21:34 PDT 2023; root:xnu-8796.121.3~7/RELEASE_ARM64_T8112\n",
      "Python Implementation: CPython\n",
      "Python Version Tuple: ('3', '11', '1')\n"
     ]
    }
   ],
   "source": [
    "import platform\n",
    "\n",
    "#summary of the operating system, version, and hardware platform\n",
    "print(\"Platform:\", platform.platform())\n",
    "\n",
    "#Returns the machine type\n",
    "print(\"Machine:\", platform.machine())\n",
    "\n",
    "#Returns the processor name, typically the name of the CPU.\n",
    "print(\"Processor:\", platform.processor())\n",
    "\n",
    "#Returns the name of the operating system\n",
    "print(\"System:\", platform.system())\n",
    "\n",
    "#Returns the version of the operating system\n",
    "print(\"Version:\", platform.version())\n",
    "\n",
    "#Returns a string identifying the Python implementation\n",
    "print(\"Python Implementation:\", platform.python_implementation())\n",
    "\n",
    "#Returns a tuple containing the major, minor, and micro version numbers of the Python interpreter\n",
    "print(\"Python Version Tuple:\", platform.python_version_tuple())"
   ]
  },
  {
   "cell_type": "markdown",
   "metadata": {},
   "source": [
    "## the __pycache__ directory\n",
    "\n",
    "just a compiled version on the module stored in bytecode"
   ]
  },
  {
   "cell_type": "code",
   "execution_count": 3,
   "metadata": {},
   "outputs": [],
   "source": [
    "#initialize a __pycache__"
   ]
  },
  {
   "cell_type": "markdown",
   "metadata": {},
   "source": [
    "## the __name__ variable\n",
    "\n",
    "Most commonly used when working with modules \n",
    "\n",
    "```\n",
    "if __name__ == \"__main__\":\n",
    "  do something\n",
    "```\n",
    "\n",
    "Why is this useful?"
   ]
  },
  {
   "cell_type": "markdown",
   "metadata": {},
   "source": [
    "## public and private variables"
   ]
  },
  {
   "cell_type": "code",
   "execution_count": 23,
   "metadata": {},
   "outputs": [],
   "source": [
    "class MyClass:\n",
    "    def __init__(self):\n",
    "        self.name = 'A Class'\n",
    "        self._internal_variable = \"This is internal\"\n",
    "        self.__private_variable = \"This is private\"\n",
    "\n",
    "my_object = MyClass()\n",
    "# print(my_object.name)\n",
    "# print(my_object._internal_variable)\n",
    "# print(my_object.__private_variable)"
   ]
  },
  {
   "cell_type": "markdown",
   "metadata": {},
   "source": [
    "## the \\_\\_init\\_\\_.py file"
   ]
  },
  {
   "cell_type": "code",
   "execution_count": 10,
   "metadata": {},
   "outputs": [
    {
     "name": "stdout",
     "output_type": "stream",
     "text": [
      "hello\n",
      "goodbye\n"
     ]
    }
   ],
   "source": [
    "# import inititalize\n",
    "# runs only the first time a module is imported\n",
    "# used for easier access to modules\n",
    "\n",
    "# from initpratice import module1\n",
    "# from initpratice import module2\n",
    "\n",
    "# module1.hello()\n",
    "# module2.goodbye()\n",
    "\n",
    "# import initpratice\n",
    "\n",
    "# initpratice.hello()\n",
    "# initpratice.goodbye()\n",
    "\n"
   ]
  },
  {
   "cell_type": "markdown",
   "metadata": {},
   "source": [
    "## searching for/through modules/packages"
   ]
  },
  {
   "cell_type": "code",
   "execution_count": 12,
   "metadata": {},
   "outputs": [
    {
     "name": "stdout",
     "output_type": "stream",
     "text": [
      "['__init__.py', 'module1.py', 'module2.py']\n"
     ]
    }
   ],
   "source": [
    "#searching for packages/modules\n",
    "import os\n",
    "\n",
    "# List all files in a directory\n",
    "files = os.listdir('./initpratice/')\n",
    "\n",
    "# Filter for Python files\n",
    "python_files = [file for file in files if file.endswith('.py')]\n",
    "\n",
    "# Print the Python files\n",
    "print(python_files)"
   ]
  },
  {
   "cell_type": "code",
   "execution_count": null,
   "metadata": {},
   "outputs": [],
   "source": [
    "# Help method\n",
    "\n",
    "from nestedMods import addition\n",
    "import math\n",
    "# help(addition)\n",
    "# help(math)\n"
   ]
  },
  {
   "cell_type": "code",
   "execution_count": null,
   "metadata": {},
   "outputs": [],
   "source": [
    "#using dir()\n",
    "import math\n",
    "import nestedMods\n",
    "dir(nestedMods) # this will show the modules it has inside of the package\n",
    "dir(math) # this will show the attributes and methods"
   ]
  },
  {
   "cell_type": "markdown",
   "metadata": {},
   "source": [
    "## nested packages vs. directory trees"
   ]
  },
  {
   "cell_type": "markdown",
   "metadata": {},
   "source": [
    "- describe a nested package\n",
    "- describe a directory tree"
   ]
  }
 ],
 "metadata": {
  "kernelspec": {
   "display_name": "Python 3",
   "language": "python",
   "name": "python3"
  },
  "language_info": {
   "codemirror_mode": {
    "name": "ipython",
    "version": 3
   },
   "file_extension": ".py",
   "mimetype": "text/x-python",
   "name": "python",
   "nbconvert_exporter": "python",
   "pygments_lexer": "ipython3",
   "version": "3.11.1"
  }
 },
 "nbformat": 4,
 "nbformat_minor": 2
}
