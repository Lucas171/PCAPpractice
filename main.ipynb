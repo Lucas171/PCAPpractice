{
 "cells": [
  {
   "cell_type": "markdown",
   "metadata": {},
   "source": [
    "## import variants: import, from import, import as, import *"
   ]
  },
  {
   "cell_type": "code",
   "execution_count": null,
   "metadata": {},
   "outputs": [],
   "source": [
    "import random"
   ]
  },
  {
   "cell_type": "code",
   "execution_count": null,
   "metadata": {},
   "outputs": [],
   "source": [
    "from random import randint"
   ]
  },
  {
   "cell_type": "code",
   "execution_count": null,
   "metadata": {},
   "outputs": [],
   "source": [
    "import random as rd\n",
    "import pandas as pd\n",
    "\n",
    "\n",
    "#why?"
   ]
  },
  {
   "cell_type": "code",
   "execution_count": null,
   "metadata": {},
   "outputs": [],
   "source": [
    "from math import *\n",
    "\n",
    "#difference between this and 'import math'?"
   ]
  },
  {
   "cell_type": "code",
   "execution_count": null,
   "metadata": {},
   "outputs": [],
   "source": [
    "# additional ways to import \n",
    "\n",
    "import math, sys, datetime\n",
    "from random import randint, random\n",
    "# from random import randint as rdint\n",
    "\n",
    "# print(math.e)\n",
    "# print(sys.path[0])\n",
    "# print(datetime.datetime.today())\n",
    "# print(random())\n",
    "# print(rdint(1,5))\n",
    "\n"
   ]
  },
  {
   "cell_type": "markdown",
   "metadata": {},
   "source": [
    "## Advanced qualifying for nested modules"
   ]
  },
  {
   "cell_type": "markdown",
   "metadata": {},
   "source": [
    "- How to create a module/package\n",
    "- working with nested modules"
   ]
  },
  {
   "cell_type": "code",
   "execution_count": null,
   "metadata": {},
   "outputs": [],
   "source": [
    "\n",
    "from calculations.add import add\n",
    "from calculations.subtract import subtract\n",
    "\n"
   ]
  },
  {
   "cell_type": "markdown",
   "metadata": {},
   "source": [
    "- go to nestedMods folder"
   ]
  },
  {
   "cell_type": "markdown",
   "metadata": {},
   "source": [
    "## the dir() function\n",
    "\n",
    "\n",
    "```\n",
    "The dir() function returns all properties and methods of the \n",
    "specified object, without the values. This function will return \n",
    "all the properties and methods, even built-in properties which \n",
    "are default for all objects.\n",
    "(W3 Schools)\n",
    "```\n",
    "\n",
    "What does dir stand for? directory, maybe, idk\n",
    "\n",
    "It gives you an alphabetical listing of valid names (attributes) in the scope (object). This is pretty much the meaning of the word directory in english. (wim, stackoverflow)\n",
    "\n",
    "- can be use on things such objects, classes, functions, modules, packages."
   ]
  },
  {
   "cell_type": "code",
   "execution_count": null,
   "metadata": {},
   "outputs": [],
   "source": [
    "import math\n",
    "dir(math)"
   ]
  },
  {
   "cell_type": "code",
   "execution_count": null,
   "metadata": {},
   "outputs": [],
   "source": [
    "class Person:\n",
    "  def __init__(self) -> None:\n",
    "    self.name = \"John\"\n",
    "    self.age = 36\n",
    "    self.country = \"Norway\"\n",
    "\n",
    "new_person = Person()\n",
    "\n",
    "# besides built in stuff, what will this line show?\n",
    "print(dir(new_person))"
   ]
  },
  {
   "cell_type": "code",
   "execution_count": null,
   "metadata": {},
   "outputs": [],
   "source": [
    "#Exploring a module's attributes and methods\n",
    "# as seen above\n",
    "import random\n",
    "print(dir(random))"
   ]
  },
  {
   "cell_type": "code",
   "execution_count": null,
   "metadata": {},
   "outputs": [],
   "source": [
    "#Exploring a functions Variables\n",
    "def my_function():\n",
    "    local_variable = 10\n",
    "\n",
    "    def do_something():\n",
    "        pass\n",
    "\n",
    "    print(dir())\n",
    "\n",
    "my_function()\n",
    "print(dir())"
   ]
  },
  {
   "cell_type": "code",
   "execution_count": null,
   "metadata": {},
   "outputs": [],
   "source": [
    "#Exploring objects\n",
    "\n",
    "a_string = \"Hello, World!\"\n",
    "a_number = 5  \n",
    "print(dir(a_string))\n",
    "print(dir(a_number))"
   ]
  },
  {
   "cell_type": "markdown",
   "metadata": {},
   "source": [
    "# the sys.path variable\n",
    "\n",
    "```# sys.path\n",
    "sys.path is a built-in variable within the sys module. It contains a list of directories that the interpreter will search in for the required module. \n",
    "When a module(a module is a python file) is imported within a Python file, the interpreter first searches for the specified module among its \n",
    "built-in modules. If not found it looks through the list of directories(a directory is a folder that contains related modules) defined by sys.path.```"
   ]
  },
  {
   "cell_type": "code",
   "execution_count": null,
   "metadata": {},
   "outputs": [],
   "source": [
    "import sys\n",
    "print(sys.path)"
   ]
  },
  {
   "cell_type": "code",
   "execution_count": null,
   "metadata": {},
   "outputs": [],
   "source": [
    "import sys\n",
    "print(sys.path)\n",
    "# sys.path.append('/Users/lucasmiller/Desktop/CarnegieMellon/friday/PCAPpractice/week1/initpratice')\n",
    "from module1 import hello\n",
    "\n",
    "hello()"
   ]
  },
  {
   "cell_type": "markdown",
   "metadata": {},
   "source": [
    "## functions: ceil(), floor(), trunc(), factorial(), hypot(), sqrt()"
   ]
  },
  {
   "cell_type": "code",
   "execution_count": null,
   "metadata": {},
   "outputs": [],
   "source": [
    "#functions: ceil(), floor(), trunc(), factorial(), hypot(), sqrt()\n",
    "\n",
    "import math\n",
    "\n",
    "# round up\n",
    "print(math.ceil(5.5))\n",
    "\n",
    "# round down\n",
    "print(math.floor(5.5))\n",
    "\n",
    "# truncate\n",
    "print(math.trunc(5.555))\n",
    "\n",
    "#factorial\n",
    "print(math.factorial(3))\n",
    "\n",
    "#hypotenuse\n",
    "print(math.hypot(3,4))\n",
    "\n",
    "#square root\n",
    "print(math.sqrt(9))"
   ]
  },
  {
   "cell_type": "markdown",
   "metadata": {},
   "source": [
    "## functions: random(), seed(), choice(), sample()"
   ]
  },
  {
   "cell_type": "code",
   "execution_count": null,
   "metadata": {},
   "outputs": [],
   "source": [
    "# random\n",
    "# returns number 0.0 <= X < 1.0\n",
    "# random.random()\n",
    "# import random\n",
    "# print(random.random())\n",
    "\n"
   ]
  },
  {
   "cell_type": "code",
   "execution_count": null,
   "metadata": {},
   "outputs": [],
   "source": [
    "# seed()\n",
    "# returns same number each time\n",
    "import random\n",
    "random.seed(3)\n",
    "print(random.randint(1, 100))\n",
    "print(random.randint(1, 100))\n",
    "print(random.randint(1, 100))"
   ]
  },
  {
   "cell_type": "code",
   "execution_count": null,
   "metadata": {},
   "outputs": [],
   "source": [
    "#Examples\n",
    "\n",
    "import random\n",
    "random.seed(42)\n",
    "\n",
    "# Generate random numbers\n",
    "random_numbers = [random.randint(1, 100) for _ in range(5)]\n",
    "\n",
    "print(random_numbers)\n",
    "# print(random_numbers2)"
   ]
  },
  {
   "cell_type": "code",
   "execution_count": null,
   "metadata": {},
   "outputs": [],
   "source": [
    "import random\n",
    "random.seed('Hello')\n",
    "\n",
    "# Generate random data\n",
    "random_data = [random.random() for _ in range(3)]\n",
    "\n",
    "print(random_data)"
   ]
  },
  {
   "cell_type": "code",
   "execution_count": null,
   "metadata": {},
   "outputs": [],
   "source": [
    "# #random.choice()\n",
    "# chosen_one = random.choice([\"Max\", \"Sally\", \"Jim\", \"Brandon\", \"Ezekeal\"])\n",
    "# print(f'{chosen_one}, has to do the laundry today!')\n",
    "\n"
   ]
  },
  {
   "cell_type": "code",
   "execution_count": null,
   "metadata": {},
   "outputs": [],
   "source": [
    "# #random.sample()\n",
    "# Similar to choice\n",
    "# contestants = [\"Max\", \"Sally\", \"Jim\", \"Brandon\", \"Ezekeal\"]\n",
    "# three_finalist = random.sample(contestants, 3)\n",
    "# top_two = random.sample(three_finalist, 2)\n",
    "# winner = random.sample(top_two, 1)\n",
    "# print(three_finalist)\n",
    "# print(top_two)\n",
    "# print(winner)"
   ]
  },
  {
   "cell_type": "markdown",
   "metadata": {},
   "source": [
    "## functions: platform(), machine(), processor(), system(), version(), python_implementation(), python_version_tuple()\n",
    "\n"
   ]
  },
  {
   "cell_type": "code",
   "execution_count": null,
   "metadata": {},
   "outputs": [],
   "source": [
    "import platform\n",
    "\n",
    "#summary of the operating system, version, and hardware platform\n",
    "print(\"Platform:\", platform.platform())\n",
    "\n",
    "#Returns the machine type\n",
    "print(\"Machine:\", platform.machine())\n",
    "\n",
    "#Returns the processor name, typically the name of the CPU.\n",
    "print(\"Processor:\", platform.processor())\n",
    "\n",
    "#Returns the name of the operating system\n",
    "print(\"System:\", platform.system())\n",
    "\n",
    "#Returns the version of the operating system\n",
    "print(\"Version:\", platform.version())\n",
    "\n",
    "#Returns a string identifying the Python implementation\n",
    "print(\"Python Implementation:\", platform.python_implementation())\n",
    "\n",
    "#Returns a tuple containing the major, minor, and micro version numbers of the Python interpreter\n",
    "print(\"Python Version Tuple:\", platform.python_version_tuple())"
   ]
  },
  {
   "cell_type": "markdown",
   "metadata": {},
   "source": [
    "## the __pycache__ directory\n",
    "\n",
    "just a compiled version on the module stored in bytecode\n",
    "\n",
    "faster when you run it a second time"
   ]
  },
  {
   "cell_type": "code",
   "execution_count": null,
   "metadata": {},
   "outputs": [],
   "source": [
    "#initialize a __pycache__\n",
    "# from newpackage import module1\n",
    "# module1.something()"
   ]
  },
  {
   "cell_type": "markdown",
   "metadata": {},
   "source": [
    "## the \\_\\_name\\_\\_ variable\n",
    "\n",
    "Most commonly used when working with modules \n",
    "\n",
    "```\n",
    "if __name__ == \"__main__\":\n",
    "  do something\n",
    "```\n",
    "\n",
    "Why is this useful?"
   ]
  },
  {
   "cell_type": "code",
   "execution_count": null,
   "metadata": {},
   "outputs": [],
   "source": [
    "import namepractice.random as random\n",
    "\n",
    "random.random()"
   ]
  },
  {
   "cell_type": "markdown",
   "metadata": {},
   "source": [
    "## public and private variables"
   ]
  },
  {
   "cell_type": "code",
   "execution_count": null,
   "metadata": {},
   "outputs": [],
   "source": [
    "class MyClass:\n",
    "    def __init__(self):\n",
    "        self.name = 'A Class'\n",
    "        self._internal_variable = \"This is internal\"\n",
    "        self.__private_variable = \"This is private\"\n",
    "\n",
    "my_object = MyClass()\n",
    "print(my_object.name)\n",
    "print(my_object._internal_variable)\n",
    "print(my_object.__private_variable)\n",
    "\n",
    "#we will talk about accessing these correct was to access and changing these variables in the OOP section"
   ]
  },
  {
   "cell_type": "markdown",
   "metadata": {},
   "source": [
    "## the \\_\\_init\\_\\_.py file"
   ]
  },
  {
   "cell_type": "code",
   "execution_count": null,
   "metadata": {},
   "outputs": [],
   "source": [
    "# runs only the first time a module is imported\n",
    "# most commonly used for easier access to modules"
   ]
  },
  {
   "cell_type": "code",
   "execution_count": null,
   "metadata": {},
   "outputs": [],
   "source": [
    "# from initpratice import module1\n",
    "# from initpratice import module2\n",
    "\n",
    "# module1.hello()\n",
    "# module2.goodbye()\n",
    "\n",
    "# # from initpratice import hello, goodbye\n",
    "\n",
    "# # hello()\n",
    "# # goodbye()\n",
    "\n",
    "\n",
    "# restart kernel and run\n",
    "import initpratice\n"
   ]
  },
  {
   "cell_type": "markdown",
   "metadata": {},
   "source": [
    "## searching for/through modules/packages"
   ]
  },
  {
   "cell_type": "code",
   "execution_count": null,
   "metadata": {},
   "outputs": [],
   "source": [
    "#searching for packages/modules\n",
    "import os\n",
    "\n",
    "# List all files in a directory\n",
    "files = os.listdir('./initpratice/')\n",
    "\n",
    "# Filter for Python files\n",
    "python_files = [file for file in files if file.endswith('.py')]\n",
    "\n",
    "# Print the Python files\n",
    "print(python_files)"
   ]
  },
  {
   "cell_type": "code",
   "execution_count": null,
   "metadata": {},
   "outputs": [],
   "source": [
    "# Help method\n",
    "\n",
    "from nestedMods import addition\n",
    "import math\n",
    "# help(addition)\n",
    "# help(math)\n"
   ]
  },
  {
   "cell_type": "code",
   "execution_count": null,
   "metadata": {},
   "outputs": [],
   "source": [
    "#using dir()\n",
    "import math\n",
    "import nestedMods\n",
    "dir(nestedMods) # this will show the modules it has inside of the package\n",
    "dir(math) # this will show the attributes and methods"
   ]
  },
  {
   "cell_type": "markdown",
   "metadata": {},
   "source": [
    "## nested packages vs. directory trees"
   ]
  },
  {
   "cell_type": "markdown",
   "metadata": {},
   "source": [
    "- describe a nested package\n",
    "- describe a directory tree"
   ]
  }
 ],
 "metadata": {
  "kernelspec": {
   "display_name": "Python 3",
   "language": "python",
   "name": "python3"
  },
  "language_info": {
   "codemirror_mode": {
    "name": "ipython",
    "version": 3
   },
   "file_extension": ".py",
   "mimetype": "text/x-python",
   "name": "python",
   "nbconvert_exporter": "python",
   "pygments_lexer": "ipython3",
   "version": "3.11.1"
  }
 },
 "nbformat": 4,
 "nbformat_minor": 2
}
